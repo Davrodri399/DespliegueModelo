{
 "cells": [
  {
   "cell_type": "code",
   "execution_count": 7,
   "id": "6fee13ab",
   "metadata": {},
   "outputs": [],
   "source": [
    "import os"
   ]
  },
  {
   "cell_type": "code",
   "execution_count": 3,
   "id": "3e6f1b84",
   "metadata": {},
   "outputs": [
    {
     "name": "stdout",
     "output_type": "stream",
     "text": [
      "Collecting numpy==1.23.5\n",
      "  Downloading numpy-1.23.5-cp310-cp310-win_amd64.whl (14.6 MB)\n",
      "     ---------------------------------------- 0.0/14.6 MB ? eta -:--:--\n",
      "     ---------------------------------------- 0.1/14.6 MB 1.7 MB/s eta 0:00:09\n",
      "      --------------------------------------- 0.3/14.6 MB 2.6 MB/s eta 0:00:06\n",
      "     - -------------------------------------- 0.6/14.6 MB 5.0 MB/s eta 0:00:03\n",
      "     --- ------------------------------------ 1.3/14.6 MB 6.8 MB/s eta 0:00:02\n",
      "     ----- ---------------------------------- 1.9/14.6 MB 8.8 MB/s eta 0:00:02\n",
      "     ------- -------------------------------- 2.7/14.6 MB 10.1 MB/s eta 0:00:02\n",
      "     --------- ------------------------------ 3.5/14.6 MB 10.5 MB/s eta 0:00:02\n",
      "     ----------- ---------------------------- 4.2/14.6 MB 11.6 MB/s eta 0:00:01\n",
      "     ------------ --------------------------- 4.5/14.6 MB 11.6 MB/s eta 0:00:01\n",
      "     ------------- -------------------------- 4.8/14.6 MB 10.6 MB/s eta 0:00:01\n",
      "     ---------------- ----------------------- 6.2/14.6 MB 12.3 MB/s eta 0:00:01\n",
      "     ------------------ --------------------- 6.9/14.6 MB 12.6 MB/s eta 0:00:01\n",
      "     -------------------- ------------------- 7.7/14.6 MB 12.9 MB/s eta 0:00:01\n",
      "     ---------------------- ----------------- 8.4/14.6 MB 13.1 MB/s eta 0:00:01\n",
      "     ------------------------- -------------- 9.2/14.6 MB 13.4 MB/s eta 0:00:01\n",
      "     -------------------------- ------------ 10.0/14.6 MB 13.6 MB/s eta 0:00:01\n",
      "     ---------------------------- ---------- 10.7/14.6 MB 15.2 MB/s eta 0:00:01\n",
      "     ------------------------------ -------- 11.4/14.6 MB 15.6 MB/s eta 0:00:01\n",
      "     -------------------------------- ------ 12.2/14.6 MB 15.6 MB/s eta 0:00:01\n",
      "     ---------------------------------- ---- 13.0/14.6 MB 16.0 MB/s eta 0:00:01\n",
      "     ------------------------------------ -- 13.7/14.6 MB 16.0 MB/s eta 0:00:01\n",
      "     --------------------------------------  14.5/14.6 MB 16.0 MB/s eta 0:00:01\n",
      "     --------------------------------------  14.6/14.6 MB 15.6 MB/s eta 0:00:01\n",
      "     --------------------------------------- 14.6/14.6 MB 14.9 MB/s eta 0:00:00\n",
      "Collecting scikit-learn==1.2.2\n",
      "  Downloading scikit_learn-1.2.2-cp310-cp310-win_amd64.whl (8.3 MB)\n",
      "     ---------------------------------------- 0.0/8.3 MB ? eta -:--:--\n",
      "     --- ------------------------------------ 0.7/8.3 MB 20.8 MB/s eta 0:00:01\n",
      "     ------ --------------------------------- 1.4/8.3 MB 18.1 MB/s eta 0:00:01\n",
      "     ---------- ----------------------------- 2.2/8.3 MB 17.9 MB/s eta 0:00:01\n",
      "     -------------- ------------------------- 2.9/8.3 MB 16.8 MB/s eta 0:00:01\n",
      "     ----------------- ---------------------- 3.7/8.3 MB 16.9 MB/s eta 0:00:01\n",
      "     --------------------- ------------------ 4.5/8.3 MB 16.7 MB/s eta 0:00:01\n",
      "     ------------------------- -------------- 5.2/8.3 MB 16.6 MB/s eta 0:00:01\n",
      "     ---------------------------- ----------- 5.9/8.3 MB 16.4 MB/s eta 0:00:01\n",
      "     -------------------------------- ------- 6.8/8.3 MB 16.6 MB/s eta 0:00:01\n",
      "     ----------------------------------- ---- 7.3/8.3 MB 16.6 MB/s eta 0:00:01\n",
      "     -------------------------------------- - 8.1/8.3 MB 16.2 MB/s eta 0:00:01\n",
      "     ---------------------------------------- 8.3/8.3 MB 15.6 MB/s eta 0:00:00\n",
      "Requirement already satisfied: pandas in c:\\users\\mateo\\documents\\eafit\\cursos\\tecnicas avanzadas de analitica\\week3\\deployment\\env_predpreciosvivienda\\lib\\site-packages (2.2.3)\n",
      "Requirement already satisfied: joblib in c:\\users\\mateo\\documents\\eafit\\cursos\\tecnicas avanzadas de analitica\\week3\\deployment\\env_predpreciosvivienda\\lib\\site-packages (1.4.2)\n",
      "Requirement already satisfied: scipy>=1.3.2 in c:\\users\\mateo\\documents\\eafit\\cursos\\tecnicas avanzadas de analitica\\week3\\deployment\\env_predpreciosvivienda\\lib\\site-packages (from scikit-learn==1.2.2) (1.15.2)\n",
      "Requirement already satisfied: threadpoolctl>=2.0.0 in c:\\users\\mateo\\documents\\eafit\\cursos\\tecnicas avanzadas de analitica\\week3\\deployment\\env_predpreciosvivienda\\lib\\site-packages (from scikit-learn==1.2.2) (3.6.0)\n",
      "Requirement already satisfied: tzdata>=2022.7 in c:\\users\\mateo\\documents\\eafit\\cursos\\tecnicas avanzadas de analitica\\week3\\deployment\\env_predpreciosvivienda\\lib\\site-packages (from pandas) (2025.2)\n",
      "Requirement already satisfied: python-dateutil>=2.8.2 in c:\\users\\mateo\\documents\\eafit\\cursos\\tecnicas avanzadas de analitica\\week3\\deployment\\env_predpreciosvivienda\\lib\\site-packages (from pandas) (2.9.0.post0)\n",
      "Requirement already satisfied: pytz>=2020.1 in c:\\users\\mateo\\documents\\eafit\\cursos\\tecnicas avanzadas de analitica\\week3\\deployment\\env_predpreciosvivienda\\lib\\site-packages (from pandas) (2025.2)\n",
      "Requirement already satisfied: six>=1.5 in c:\\users\\mateo\\documents\\eafit\\cursos\\tecnicas avanzadas de analitica\\week3\\deployment\\env_predpreciosvivienda\\lib\\site-packages (from python-dateutil>=2.8.2->pandas) (1.17.0)\n",
      "Installing collected packages: numpy, scikit-learn\n",
      "  Attempting uninstall: numpy\n",
      "    Found existing installation: numpy 2.2.5\n",
      "    Uninstalling numpy-2.2.5:\n",
      "      Successfully uninstalled numpy-2.2.5\n",
      "  Attempting uninstall: scikit-learn\n",
      "    Found existing installation: scikit-learn 1.3.0\n",
      "    Uninstalling scikit-learn-1.3.0:\n",
      "      Successfully uninstalled scikit-learn-1.3.0\n",
      "Successfully installed numpy-1.23.5 scikit-learn-1.2.2\n"
     ]
    },
    {
     "name": "stderr",
     "output_type": "stream",
     "text": [
      "\n",
      "[notice] A new release of pip is available: 23.0.1 -> 25.0.1\n",
      "[notice] To update, run: python.exe -m pip install --upgrade pip\n"
     ]
    }
   ],
   "source": [
    "!pip install numpy==1.23.5 scikit-learn==1.2.2 pandas joblib"
   ]
  },
  {
   "cell_type": "code",
   "execution_count": 4,
   "id": "84f07729",
   "metadata": {},
   "outputs": [],
   "source": [
    "import pandas as pd\n",
    "import numpy as np\n",
    "import os\n",
    "from sklearn.model_selection import train_test_split\n",
    "from sklearn.linear_model import LinearRegression\n",
    "from sklearn.preprocessing import StandardScaler\n",
    "import joblib\n"
   ]
  },
  {
   "cell_type": "markdown",
   "id": "753f7c57",
   "metadata": {},
   "source": [
    "# Crear un dataset sintético de viviendas"
   ]
  },
  {
   "cell_type": "code",
   "execution_count": null,
   "id": "050b0cb5",
   "metadata": {},
   "outputs": [
    {
     "name": "stdout",
     "output_type": "stream",
     "text": [
      "Dataset creado y guardado en housing_data.csv\n"
     ]
    }
   ],
   "source": [
    "np.random.seed(42)\n",
    "n_samples = 500\n",
    "\n",
    "# Crear características sintéticas\n",
    "RM = np.random.normal(6.5, 1, n_samples)  # Número medio de habitaciones\n",
    "LSTAT = np.random.normal(12, 7, n_samples)  # % de población de estatus bajo\n",
    "PTRATIO = np.random.normal(18, 2, n_samples)  # Ratio alumno-profesor\n",
    "DIS = np.random.normal(3.5, 2, n_samples)  # Distancia ponderada a centros de empleo\n",
    "\n",
    "# Crear precio como función de estas características más algo de ruido\n",
    "PRICE = 22 + 5*RM - 0.7*LSTAT - 0.7*PTRATIO - 0.4*DIS + np.random.normal(0, 3, n_samples)\n",
    "\n",
    "# Crear DataFrame\n",
    "data = {\n",
    "    'RM': RM,\n",
    "    'LSTAT': LSTAT,\n",
    "    'PTRATIO': PTRATIO,\n",
    "    'DIS': DIS,\n",
    "    'PRICE': PRICE\n",
    "}\n",
    "df = pd.DataFrame(data)\n",
    "\n",
    "# Guardar el CSV\n",
    "df.to_csv(os.path.join(os.getcwd(), 'housing_data.csv'), index=False)\n",
    "print(\"Dataset creado y guardado en housing_data.csv\")\n"
   ]
  },
  {
   "cell_type": "markdown",
   "id": "e77caa50",
   "metadata": {},
   "source": [
    "# Crear y guardar el modelo"
   ]
  },
  {
   "cell_type": "code",
   "execution_count": null,
   "id": "be739fb8",
   "metadata": {},
   "outputs": [
    {
     "name": "stdout",
     "output_type": "stream",
     "text": [
      "Modelo y scaler creados y guardados en la carpeta models/\n"
     ]
    }
   ],
   "source": [
    "X = df.drop('PRICE', axis=1)\n",
    "y = df['PRICE']\n",
    "\n",
    "# Dividir en conjunto de entrenamiento y prueba\n",
    "X_train, X_test, y_train, y_test = train_test_split(X, y, test_size=0.2, random_state=42)\n",
    "\n",
    "# Estandarizar las características\n",
    "scaler = StandardScaler()\n",
    "X_train_scaled = scaler.fit_transform(X_train)\n",
    "\n",
    "# Entrenar el modelo\n",
    "model = LinearRegression()\n",
    "model.fit(X_train_scaled, y_train)\n",
    "\n",
    "# Crear directorio para los modelos si no existe\n",
    "os.makedirs(os.path.join(os.getcwd(), 'models'), exist_ok=True)\n",
    "\n",
    "# Guardar el modelo y el scaler\n",
    "joblib.dump(model, os.path.join(os.getcwd(), 'models/housing_model.pkl'))\n",
    "joblib.dump(scaler, os.path.join(os.getcwd(), 'models/scaler.pkl'))\n",
    "\n",
    "print(\"Modelo y scaler creados y guardados en la carpeta models/\")"
   ]
  },
  {
   "cell_type": "markdown",
   "id": "e5dd7ecb",
   "metadata": {},
   "source": [
    "# Mostrar"
   ]
  },
  {
   "cell_type": "code",
   "execution_count": 8,
   "id": "6ea534ee",
   "metadata": {},
   "outputs": [
    {
     "name": "stdout",
     "output_type": "stream",
     "text": [
      "\n",
      "Primeras 5 filas del DataFrame:\n",
      "         RM      LSTAT    PTRATIO       DIS      PRICE\n",
      "0  6.996714  18.483243  20.798711  5.056722  25.437979\n",
      "1  6.361736  25.365916  19.849267  2.397629  20.765442\n",
      "2  7.147689   2.210027  18.119261  1.863602  40.385241\n",
      "3  8.023030  15.940785  16.706126  3.493251  36.941126\n",
      "4  6.265847   7.445502  19.396447  3.159631  27.595173\n",
      "\n",
      "Estadísticas descriptivas:\n",
      "               RM       LSTAT     PTRATIO         DIS       PRICE\n",
      "count  500.000000  500.000000  500.000000  500.000000  500.000000\n",
      "mean     6.506838   12.222783   18.216969    3.566376   31.765264\n",
      "std      0.981253    6.845980    2.020493    1.968132    7.901322\n",
      "min      3.258733   -6.878207   12.207489   -2.380777    6.241990\n",
      "25%      5.799693    7.832958   16.795141    2.276128   26.515528\n",
      "50%      6.512797   12.199721   18.239612    3.482173   31.569336\n",
      "75%      7.136783   16.558696   19.509477    4.899539   36.883817\n",
      "max     10.352731   30.426674   23.203366    9.886215   53.100502\n",
      "\n",
      "Coeficientes del modelo:\n",
      "   Feature  Coefficient\n",
      "0       RM     4.827736\n",
      "1    LSTAT    -4.553340\n",
      "2  PTRATIO    -1.566952\n",
      "3      DIS    -1.074321\n"
     ]
    }
   ],
   "source": [
    "# Mostrar las primeras filas del dataset\n",
    "print(\"\\nPrimeras 5 filas del DataFrame:\")\n",
    "print(df.head())\n",
    "\n",
    "# Mostrar estadísticas básicas\n",
    "print(\"\\nEstadísticas descriptivas:\")\n",
    "print(df.describe())\n",
    "\n",
    "# Ver los coeficientes del modelo\n",
    "coefficients = pd.DataFrame({\n",
    "    'Feature': X.columns,\n",
    "    'Coefficient': model.coef_\n",
    "})\n",
    "print(\"\\nCoeficientes del modelo:\")\n",
    "print(coefficients)"
   ]
  },
  {
   "cell_type": "code",
   "execution_count": null,
   "id": "9bf0f0b6",
   "metadata": {},
   "outputs": [],
   "source": []
  }
 ],
 "metadata": {
  "kernelspec": {
   "display_name": "env_PredPreciosVivienda",
   "language": "python",
   "name": "python3"
  },
  "language_info": {
   "codemirror_mode": {
    "name": "ipython",
    "version": 3
   },
   "file_extension": ".py",
   "mimetype": "text/x-python",
   "name": "python",
   "nbconvert_exporter": "python",
   "pygments_lexer": "ipython3",
   "version": "3.10.11"
  }
 },
 "nbformat": 4,
 "nbformat_minor": 5
}
